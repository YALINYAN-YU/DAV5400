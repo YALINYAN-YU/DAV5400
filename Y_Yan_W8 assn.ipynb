{
 "cells": [
  {
   "cell_type": "markdown",
   "metadata": {},
   "source": [
    "Question1. Extract the names of each individual from the unformatted text string and store them in a vector of some sort. When \n",
    "complete, your vector should contain the following entries:\n",
    "\n",
    "Here I import np,pd and re firstly.Regular expressions are extremely useful in extracting information from any text by searching for one or\n",
    "more matches of a specific search pattern. Then I need to transfer the string to text file, and the use regex to do the sxtract the names to store in vector.\n"
   ]
  },
  {
   "cell_type": "code",
   "execution_count": 17,
   "metadata": {},
   "outputs": [
    {
     "data": {
      "text/plain": [
       "0             Moe Szyslak\n",
       "1    Burns, C. Montgomery\n",
       "2    Rev. Timothy Lovejoy\n",
       "3            Ned Flanders\n",
       "4          Simpson, Homer\n",
       "5      Dr. Julius Hibbert\n",
       "dtype: object"
      ]
     },
     "execution_count": 17,
     "metadata": {},
     "output_type": "execute_result"
    }
   ],
   "source": [
    "#import first\n",
    "import re\n",
    "import numpy as np\n",
    "import pandas as pd\n",
    "#introduce the original string to text\n",
    "text=\"\"\"555-1239Moe Szyslak(636) 555-0113Burns, C. Montgomery555 -6542Rev. Timothy Lovejoy555 \n",
    "8904Ned Flanders636-555-3226Simpson, Homer5553642Dr. Julius Hibbert\"\"\"\n",
    "#use regex to extract\n",
    "pattern = r'[A-Za-z]+[\\s,\\.]+[A-Z\\.\\s]+[A-Za-z]+[\\s]*[A-Za-z]*'\n",
    "vector = re.findall(pattern, text)\n",
    "vector = pd.Series(vector)\n",
    "vector"
   ]
  },
  {
   "cell_type": "markdown",
   "metadata": {},
   "source": [
    "Question2. Using your new vector containing only the names of the six individuals, complete the following tasks:\n",
    "a. Use your regex skills to rearrange the vector so that all elements conform to the standard “firstname \n",
    "lastname”, preserving any titles (e.g., “Rev.”, “Dr.”, etc) or middle/second names.\n",
    "\n",
    "Here need to figure out the names that not conform to the standard “firstname lastname” first, the split the name as \"firstname\" and\n",
    "\"lastname\" then combine them as the requested order as “firstname lastname”\n"
   ]
  },
  {
   "cell_type": "code",
   "execution_count": 36,
   "metadata": {},
   "outputs": [
    {
     "data": {
      "text/plain": [
       "0             Moe Szyslak\n",
       "1     C. Montgomery Burns\n",
       "2    Rev. Timothy Lovejoy\n",
       "3            Ned Flanders\n",
       "4           Homer Simpson\n",
       "5      Dr. Julius Hibbert\n",
       "dtype: object"
      ]
     },
     "execution_count": 36,
     "metadata": {},
     "output_type": "execute_result"
    }
   ],
   "source": [
    "#use for loop to get the rearanged names\n",
    "#then split and combine to the requested order as “firstname lastname”,preserving any titles\n",
    "for i in range (len(vector)):\n",
    "    if re.findall( ',',vector[i]):\n",
    "        name_parts = re.split(', ', vector[i])\n",
    "        vector[i] = name_parts[1]+' '+name_parts[0]\n",
    "vector"
   ]
  },
  {
   "cell_type": "markdown",
   "metadata": {},
   "source": [
    "Qestion 2-b: Construct a logical vector indicating whether a character has a title (i.e., Rev. and Dr.).\n",
    "\n",
    "Here need to use the str.contains function to distinguish whether a title is contains or not."
   ]
  },
  {
   "cell_type": "code",
   "execution_count": 37,
   "metadata": {},
   "outputs": [
    {
     "data": {
      "text/plain": [
       "0    False\n",
       "1    False\n",
       "2     True\n",
       "3    False\n",
       "4    False\n",
       "5     True\n",
       "dtype: bool"
      ]
     },
     "execution_count": 37,
     "metadata": {},
     "output_type": "execute_result"
    }
   ],
   "source": [
    "vector.str.contains('[A-Z][a-z]+\\.')"
   ]
  },
  {
   "cell_type": "markdown",
   "metadata": {},
   "source": [
    "Question2-c. Construct a logical vector indicating whether a character has a middle/second name.\n",
    "\n",
    "Here if a name has a middle name, then the name consisted by three parts and including two space ' 'in the name, this is the characters for \n",
    "name that contains middle name.Here use match function to distinguish. "
   ]
  },
  {
   "cell_type": "code",
   "execution_count": 43,
   "metadata": {},
   "outputs": [
    {
     "data": {
      "text/plain": [
       "0    False\n",
       "1     True\n",
       "2    False\n",
       "3    False\n",
       "4    False\n",
       "5    False\n",
       "dtype: bool"
      ]
     },
     "execution_count": 43,
     "metadata": {},
     "output_type": "execute_result"
    }
   ],
   "source": [
    "#insert the vector.str.match here \n",
    "#name contains middle name have two type of regex, use'\\'to meet this.\n",
    "vector.str.match('(\\w+\\s\\w+\\s\\w+)|([A-Z]\\.\\s\\w+\\s\\w+)')"
   ]
  },
  {
   "cell_type": "markdown",
   "metadata": {},
   "source": [
    "Question3. \n",
    "    \n",
    "Here '.' can represent any characters except '\\n', so in the above case, '.+'can either be'title' or 'title>+++BREAKING NEWS+++<title', which is the  content of the first> and the second>, and '.+' can also represent nany '<' and '>' also, so here cannot distinguish “<.+>”represents which one, quite confused here.\n",
    "The correct way is adding a '?' here, which means 0 or 1 repetitions of the preceding characters. \n",
    "\n",
    "\n",
    "\n",
    "\n",
    "\n",
    "\n"
   ]
  },
  {
   "cell_type": "code",
   "execution_count": 23,
   "metadata": {},
   "outputs": [
    {
     "name": "stdout",
     "output_type": "stream",
     "text": [
      "<re.Match object; span=(0, 7), match='<title>'>\n"
     ]
    }
   ],
   "source": [
    "#introduce the string and store in HTML\n",
    "# use match function to get the <title>\n",
    "\n",
    "HTML = '<title>+++BREAKING NEWS+++<title>'\n",
    "\n",
    "print(re.match('<.+?>',HTML))"
   ]
  },
  {
   "cell_type": "markdown",
   "metadata": {},
   "source": [
    "Qestion4: Consider the string “(5-3)^2=5^2-2*5*3+3^2” conforms to the binomial theorem. We would like to extract the \n",
    "formula in the string. To do so we write the regular expression “[^0-9=+*()]+”. Explain why this fails and correct the \n",
    "expression.\n",
    "\n",
    "Here '^'matches all the other charcters except the one after '^',here\"^0-9= \" is incorrect. In the correct answer we should use'\\'to match the original meaning of the characters.\n",
    "For instance, '\\\\'stands for'\\'and '\\.'stands for '.'\n",
    "    "
   ]
  },
  {
   "cell_type": "code",
   "execution_count": 26,
   "metadata": {},
   "outputs": [
    {
     "name": "stdout",
     "output_type": "stream",
     "text": [
      "<re.Match object; span=(0, 21), match='(5-3)^2=5^2-2*5*3+3^2'>\n"
     ]
    }
   ],
   "source": [
    "#store in the string\n",
    "#use match to get the answer. \n",
    "\n",
    "string = '(5-3)^2=5^2-2*5*3+3^2'\n",
    "print(re.match('[\\^\\-0-9=+*()]+', string))"
   ]
  },
  {
   "cell_type": "code",
   "execution_count": null,
   "metadata": {},
   "outputs": [],
   "source": []
  }
 ],
 "metadata": {
  "kernelspec": {
   "display_name": "Python 3",
   "language": "python",
   "name": "python3"
  },
  "language_info": {
   "codemirror_mode": {
    "name": "ipython",
    "version": 3
   },
   "file_extension": ".py",
   "mimetype": "text/x-python",
   "name": "python",
   "nbconvert_exporter": "python",
   "pygments_lexer": "ipython3",
   "version": "3.7.3"
  }
 },
 "nbformat": 4,
 "nbformat_minor": 2
}
