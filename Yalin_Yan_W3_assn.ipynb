{
 "cells": [
  {
   "cell_type": "code",
   "execution_count": null,
   "metadata": {},
   "outputs": [],
   "source": [
    "#same as assignment2\n",
    "import csv\n",
    "with open('C:/Users/Administrator/Desktop/cars-sample35.txt') as csvfile:\n",
    "    readCSV = csv.reader(csvfile)\n",
    "    #build a new list called carlist\n",
    "    carlist=[]\n",
    "    for row in readCSV:\n",
    "        carlist.append(row) # '.'is used to append the row in readCSV to the row in newlist \n",
    "    \n",
    "    for row in carlist:\n",
    "        print(row)   # here we get the new list"
   ]
  },
  {
   "cell_type": "code",
   "execution_count": null,
   "metadata": {},
   "outputs": [],
   "source": [
    "#same as assignment2, to extract the seven attributes from each line of the file to creat seven distinct list.\n",
    "Price=[each_row[0]for each_row in carlist]\n",
    "Maintenance_cost=[each_row[1]for each_row in carlist]\n",
    "Numbers_of_doors=[each_row[2]for each_row in carlist]\n",
    "Numbers_of_passenger=[each_row[3]for each_row in carlist]\n",
    "Luggage_capacity=[each_row[4]for each_row in carlist]\n",
    "Safety_rating=[each_row[5]for each_row in carlist]\n",
    "Classification_of_vehicle=[each_row[6]for each_row in carlist]\n",
    "print(Price)\n",
    "print(Maintenance_cost)\n",
    "print(Numbers_of_doors)\n",
    "print(Numbers_of_passenger)\n",
    "print(Luggage_capacity)\n",
    "print(Safety_rating)\n",
    "print(Classification_of_vehicle)"
   ]
  },
  {
   "cell_type": "code",
   "execution_count": null,
   "metadata": {},
   "outputs": [],
   "source": [
    "#Task 1 \n",
    "#create a new list and using the comprehension here, which is short, clean and in a logic way \n",
    "med_list = [x for x in range(len(Price)) if Price[x] == 'med']\n",
    "\n",
    "med_list"
   ]
  },
  {
   "cell_type": "code",
   "execution_count": null,
   "metadata": {},
   "outputs": [],
   "source": [
    "#Task 2\n",
    "#Create a new list and using the comprehension here, which is short, clean and in a logic way \n",
    "finding_list = [Numbers_of_passenger[x] for x in med_list]\n",
    "\n",
    "finding_list"
   ]
  },
  {
   "cell_type": "code",
   "execution_count": 32,
   "metadata": {},
   "outputs": [
    {
     "data": {
      "text/plain": [
       "[0, 1, 2, 27, 31]"
      ]
     },
     "execution_count": 32,
     "metadata": {},
     "output_type": "execute_result"
    }
   ],
   "source": [
    "# Task 3\n",
    "# Create a new list and using the comprehension here, which is short, clean and in a logic way \n",
    "New_list = [x for x in range(len(Price)) if  Price[x] == 'high' and Maintenance_cost[x] != 'low']\n",
    "\n",
    "New_list"
   ]
  },
  {
   "cell_type": "code",
   "execution_count": 40,
   "metadata": {},
   "outputs": [
    {
     "name": "stdout",
     "output_type": "stream",
     "text": [
      "[1, 2, 3, 'A', 'B', 'C', 4, 5, 'D', 'E']\n"
     ]
    }
   ],
   "source": [
    "# Task 4\n",
    "nlist=[[1,2,3],['A','B','C'],[4,5],['D','E']]\n",
    "# implement this logic using a list comprehension as follows\n",
    "flist = [x for y in nlist for x in y]\n",
    "print(flist)\n"
   ]
  },
  {
   "cell_type": "code",
   "execution_count": 153,
   "metadata": {},
   "outputs": [
    {
     "data": {
      "text/plain": [
       "{'A0': 'high',\n",
       " 'A1': 'high',\n",
       " 'A2': 'high',\n",
       " 'A3': 'high',\n",
       " 'A4': 'vhigh',\n",
       " 'A5': 'low',\n",
       " 'A6': 'med',\n",
       " 'A7': 'low',\n",
       " 'A8': 'vhigh',\n",
       " 'A9': 'vhigh',\n",
       " 'A10': 'low',\n",
       " 'A11': 'vhigh',\n",
       " 'A12': 'high',\n",
       " 'A13': 'low',\n",
       " 'A14': 'high',\n",
       " 'A15': 'vhigh',\n",
       " 'A16': 'med',\n",
       " 'A17': 'high',\n",
       " 'A18': 'low',\n",
       " 'A19': 'low',\n",
       " 'A20': 'med',\n",
       " 'A21': 'low',\n",
       " 'A22': 'vhigh',\n",
       " 'A23': 'med',\n",
       " 'A24': 'low',\n",
       " 'A25': 'vhigh',\n",
       " 'A26': 'med',\n",
       " 'A27': 'high',\n",
       " 'A28': 'low',\n",
       " 'A29': 'med',\n",
       " 'A30': 'high',\n",
       " 'A31': 'high',\n",
       " 'A32': 'low',\n",
       " 'A33': 'vhigh',\n",
       " 'A34': 'high'}"
      ]
     },
     "execution_count": 153,
     "metadata": {},
     "output_type": "execute_result"
    }
   ],
   "source": [
    "#task5: To create a new dict objects containing the first seven elements of the 'Price'lists\n",
    "#step1: use enumerate to change all the forms in list(Price) to dict as requirement. \n",
    "Price_mapping = {'A'+str(val) : index for val, index in enumerate(Price)}\n",
    "Price_mapping"
   ]
  },
  {
   "cell_type": "code",
   "execution_count": 158,
   "metadata": {},
   "outputs": [
    {
     "data": {
      "text/plain": [
       "{'A0': 'high',\n",
       " 'A1': 'high',\n",
       " 'A2': 'high',\n",
       " 'A3': 'high',\n",
       " 'A4': 'vhigh',\n",
       " 'A5': 'low',\n",
       " 'A6': 'med'}"
      ]
     },
     "execution_count": 158,
     "metadata": {},
     "output_type": "execute_result"
    }
   ],
   "source": [
    "# step2: get the first 7 pair of data in Price_mapping\n",
    "subkey = ['A0','A1','A2','A3','A4','A5','A6']\n",
    "P_subdict = dict([(key, Price_mapping[key]) for key in subkey])\n",
    "P_subdict"
   ]
  },
  {
   "cell_type": "code",
   "execution_count": null,
   "metadata": {},
   "outputs": [],
   "source": [
    "#task5: To create a new dict objects containing the first seven elements of the 'Luggage_capacity'lists\n",
    "#step1: use enumerate to change all the forms in list(Luggage_capacity) to dict as requirement. \n",
    "Luggage_mapping = {'A'+str(val) : index for val, index in enumerate(Luggage_capacity)}\n",
    "Luggage_mapping"
   ]
  },
  {
   "cell_type": "code",
   "execution_count": 157,
   "metadata": {},
   "outputs": [
    {
     "data": {
      "text/plain": [
       "{'A0': 'high',\n",
       " 'A1': 'high',\n",
       " 'A2': 'high',\n",
       " 'A3': 'high',\n",
       " 'A4': 'vhigh',\n",
       " 'A5': 'low',\n",
       " 'A6': 'med'}"
      ]
     },
     "execution_count": 157,
     "metadata": {},
     "output_type": "execute_result"
    }
   ],
   "source": [
    "# step2: get the first 7 pair of data in Luggage_mapping\n",
    "subkey = ['A0','A1','A2','A3','A4','A5','A6']\n",
    "L_subdict = dict([(key, Price_mapping[key]) for key in subkey])\n",
    "L_subdict"
   ]
  },
  {
   "cell_type": "code",
   "execution_count": 163,
   "metadata": {},
   "outputs": [
    {
     "name": "stdout",
     "output_type": "stream",
     "text": [
      "Price of A4: vhigh\n",
      "Luggage of A4: vhigh\n"
     ]
    }
   ],
   "source": [
    "#use these dict objects to tell us the price and luggage capacity of the auto identified by the ‘A4’ key value\n",
    "print('Price of A4:',P_subdict['A4'])\n",
    "\n",
    "print('Luggage of A4:',L_subdict['A4'])"
   ]
  }
 ],
 "metadata": {
  "kernelspec": {
   "display_name": "Python 3",
   "language": "python",
   "name": "python3"
  },
  "language_info": {
   "codemirror_mode": {
    "name": "ipython",
    "version": 3
   },
   "file_extension": ".py",
   "mimetype": "text/x-python",
   "name": "python",
   "nbconvert_exporter": "python",
   "pygments_lexer": "ipython3",
   "version": "3.7.3"
  }
 },
 "nbformat": 4,
 "nbformat_minor": 2
}
