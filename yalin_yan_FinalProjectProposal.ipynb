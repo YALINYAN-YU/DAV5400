{
 "cells": [
  {
   "cell_type": "markdown",
   "metadata": {},
   "source": [
    "# DAV 5400 Final Project Proposal Guidelines"
   ]
  },
  {
   "cell_type": "markdown",
   "metadata": {},
   "source": [
    "The proposal for the final project will be submitted in the form of a formal research proposal document. __Specifically, your proposal must include each of the sections outlined below__ and must be submitted in the form of a Jupyter Notebook that has been posted to your GitHub DAV5400 repository.\n",
    "\n",
    "### Please be sure to read the Final Project Checklist provided in the Final Project description document before submitting your proposal !!\n",
    "\n",
    "The Final Project Checklist contains a number of project requirements that you are required to satisfy as part of your Final Project work. __Please be sure that your proposed project will enable you to satisfy each of those requirements!!__\n",
    "\n",
    "<br>\n",
    "<br>\n",
    "\n",
    "\\*\\* If you are working as a team, be sure to include the name of each team member at the top of the document (prior to the \"Introduction\" section) and clearly explain what specific tasks each team member will be responsible for during your Final Project efforts.\n",
    "<br>\n",
    "<br>\n",
    "\n",
    "\\*\\* Also, please note that the initial draft of your proposal is due not later than __Sunday October 27__ and the final version of your proposal is due no later than __Wednesday November 20__. However, you are strongly encouraged to submit your proposal at any time prior to those dates: doing so will serve to increase the amount of time available to you for your Final Project efforts.\n",
    "\n"
   ]
  },
  {
   "cell_type": "markdown",
   "metadata": {},
   "source": [
    "## Introduction\n",
    "\n",
    "*This section should provide some context for the basis of the research questions you plan to answer without actually describing the research questions themselves. For example, if your research questions are focused on a health related issue, you might provide a brief summary of how many people are affected by that issue each year either regionally, nationally or globally, including any infection rate or mortality statistics you were able to gather. Basically, in the Introduction you are trying to make the reader understand why the research questions you are going to propose are relevant and should be of interest to them.*"
   ]
  },
  {
   "cell_type": "markdown",
   "metadata": {},
   "source": [
    "## Research Questions\n",
    "\n",
    "*Provide a single succinct sentence that describes each of your research questions. Then provide a paragraph or two explaining how the results of your research might be used/implemented in the \"real world\".*"
   ]
  },
  {
   "cell_type": "markdown",
   "metadata": {},
   "source": [
    "## Data to be Used\n",
    "\n",
    "*Clearly identify the sources of your data and explain the methods you will use to collect the data from those sources, e.g., \"Data from this source will be loaded into an SQL database..\" or \"Data will need to be collected from this source via scraping of a web page..\", etc.*"
   ]
  },
  {
   "cell_type": "markdown",
   "metadata": {},
   "source": [
    "## Approach\n",
    "\n",
    "*Explain how you plan to manage the data you are collecting: e.g., will you be storing it within some sort of database, etc.? Explain what types of statistical analysis you plan to utilize to help answer your research questions. Explain any graphics you plan to generate to help answer you research questions, e.g., \"..we will attempt to construct geoplots that will show how xxxxxx varies between counties within the state of Nevada..\", etc. The reader should come away with a clear understanding of how you plan to proceed with your work. Keep in mind that since this is a proposal, you need to be able to convince the reader that your proposed project is: a) realistic; and b) feasible within the time alloted for the project.*"
   ]
  },
  {
   "cell_type": "markdown",
   "metadata": {},
   "source": [
    "1.Data introduction:\n",
    "    I have found and downloaded 2 sets of data in from the World Health Organization, as the following website:\n",
    "    http://apps.who.int/gho/data/node.main.52?lang=en\n",
    "    http://apps.who.int/gho/data/view.main.NCDCHILDBMIMINUS2WBv?lang=en\n",
    "        \n",
    "The first set of data describe in which year which religion of the world and which country the propotions of infants exclusively breastfed \n",
    "for the first six months of life, and the propotions of Early initiation of breastfeeding of all the infants. we can analysis the data to conclude the relationships between each 2 factors from the above metioned ones.\n",
    "The second set of data describe the people's thinness status, which can be indicated by the BMI, in different time, religions, age, sex and income status(low, middle-low, middle-high,high)\n",
    "These two set of data have some factors are same such as the time and religion, and they are all describing the healthy problems of people all over the world.\n",
    "\n",
    "\n",
    "2.research question:\n",
    "(1)What is the relationship between the \"infrants exclusively breastfed for the first six months of life \" related with their BMI when they grow up?\n",
    "(2)How the income status influce people's thinness?\n",
    "\n",
    "3.Data to be used:\n",
    "One of the data is in Excel and another is in the form of csv,download from the following website:\n",
    "http://apps.who.int/gho/data/node.main.52?lang=en\n",
    "http://apps.who.int/gho/data/view.main.NCDCHILDBMIMINUS2WBv?lang=en\n",
    "\n",
    "4.I think this 2 dataset meet the requirements of : a) realistic; and b) feasible, and  I have the following reasons:\n",
    "(1)This two dataset all present the healthy problems that humankind are facing today, and health stutas is the basic for everything, only our next generation have a very good body and health condition, we can devote more human resource to the project of humankind's civilisation and advancement, so to research the approch to improve people's health have a significant meaning;\n",
    "(2)These two date set are related to each other, we can easily related a people's nutrition in the baby age to his or her thinness when they grow up. so for gorvenment to make the decision to spend same amount of money to improve the health, we can know that which decision is more meaningful, to devote the money to the heath care to the baby age or adult age? So i regard this as quite realistic and feasible. \n",
    "\n",
    "        "
   ]
  }
 ],
 "metadata": {
  "kernelspec": {
   "display_name": "Python 3",
   "language": "python",
   "name": "python3"
  },
  "language_info": {
   "codemirror_mode": {
    "name": "ipython",
    "version": 3
   },
   "file_extension": ".py",
   "mimetype": "text/x-python",
   "name": "python",
   "nbconvert_exporter": "python",
   "pygments_lexer": "ipython3",
   "version": "3.7.3"
  }
 },
 "nbformat": 4,
 "nbformat_minor": 2
}
