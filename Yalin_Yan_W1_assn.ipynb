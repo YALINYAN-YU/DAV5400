{
 "cells": [
  {
   "cell_type": "markdown",
   "metadata": {},
   "source": [
    "Hi,I am Yalin Yan. I think doing forecasts are quite interesting. I can make forecasts to guess about the result base on a lot data and information, I would feel achievable if I make the right or similar forecast for the result. During this course, I will use this dataset to do some compare about the chance to win between some exactly countries. And I can also do some visualization chats by using this dataset so that we can have a better understanding about what this data reflects.Meanwhile, I also want to try to find out the relationships between the data under each countries.   "
   ]
  },
  {
   "cell_type": "markdown",
   "metadata": {},
   "source": [
    "I would asking:\n",
    "1.Which Country has the most possibility to win the world cup 2019?\n",
    "I can clearly see that USA have the most possibility to win the world cup 2019 from the det of data.\n",
    "2.Countries from which continent have a overall better performance?\n",
    "America and Europe have an overall better performance and greater chance to win than Asia.\n",
    "\n",
    "I am interested in forecast but not so familiar with football game rules.I will learn more about football game rules so that I can have a better understanding about the data here. I hope that one day I can make a good forecast by the knowledge that I learn in this course. This let me feel exciting."
   ]
  },
  {
   "cell_type": "markdown",
   "metadata": {},
   "source": [
    "[link](https://github.com/YALINYAN-YU/DAV5400.git)"
   ]
  },
  {
   "cell_type": "markdown",
   "metadata": {},
   "source": [
    "[link](https://projects.fivethirtyeight.com/2019-womens-world-cup-predictions/)"
   ]
  },
  {
   "cell_type": "code",
   "execution_count": null,
   "metadata": {},
   "outputs": [],
   "source": []
  }
 ],
 "metadata": {
  "kernelspec": {
   "display_name": "Python 3",
   "language": "python",
   "name": "python3"
  },
  "language_info": {
   "codemirror_mode": {
    "name": "ipython",
    "version": 3
   },
   "file_extension": ".py",
   "mimetype": "text/x-python",
   "name": "python",
   "nbconvert_exporter": "python",
   "pygments_lexer": "ipython3",
   "version": "3.7.3"
  }
 },
 "nbformat": 4,
 "nbformat_minor": 2
}
