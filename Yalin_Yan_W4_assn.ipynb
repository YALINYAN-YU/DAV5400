{
 "cells": [
  {
   "cell_type": "code",
   "execution_count": 60,
   "metadata": {},
   "outputs": [
    {
     "data": {
      "text/plain": [
       "array([2, 4])"
      ]
     },
     "execution_count": 60,
     "metadata": {},
     "output_type": "execute_result"
    }
   ],
   "source": [
    "#Task1\n",
    "#import arr01 and arr02 as required\n",
    "import numpy as np\n",
    "arr01 = np.array([1, 2, 3, 2, 3, 4, 3, 4, 5, 6]) \n",
    "arr02 = np.array([7, 2, 10, 2, 7, 4, 9, 4, 9, 8])\n",
    "#use interset1d to select the common numbers in both arr01 and arr02\n",
    "common = np.intersect1d(arr01, arr02)\n",
    "common\n"
   ]
  },
  {
   "cell_type": "code",
   "execution_count": 39,
   "metadata": {},
   "outputs": [
    {
     "data": {
      "text/plain": [
       "array([[ 0,  1,  2],\n",
       "       [ 3,  4,  5],\n",
       "       [ 6,  7,  8],\n",
       "       [ 9, 10, 11],\n",
       "       [12, 13, 14]])"
      ]
     },
     "execution_count": 39,
     "metadata": {},
     "output_type": "execute_result"
    }
   ],
   "source": [
    "#Task 2\n",
    "#import a array with 15 numbers first, then use reshape to get the 5 rows, 3 numbers in each row shape, then ues 'array+1' to make sure \n",
    "#the first number in each dimension increaced by 1.\n",
    "import numpy as np \n",
    "arr = np.arange(15).reshape(5,3)\n",
    "(arr+1).T\n",
    "arr"
   ]
  },
  {
   "cell_type": "code",
   "execution_count": 46,
   "metadata": {},
   "outputs": [
    {
     "data": {
      "text/plain": [
       "array([ 1,  7,  8, 15])"
      ]
     },
     "execution_count": 46,
     "metadata": {},
     "output_type": "execute_result"
    }
   ],
   "source": [
    "#Task 3, step1\n",
    "#import arr01 and arr02\n",
    "arr01 = np.array([12, 5, 7, 15, 3, 1, 8]) \n",
    "arr02 = np.array([14, 6, 3, 11, 19, 12, 5])\n",
    "#use 'intersectld' can select the common numbers in arr01 and arr02\n",
    "common = np.intersect1d(arr01,arr02)\n",
    "\n",
    "#Task 3, step2\n",
    "#use‘setdiffld’to get the uncommon numbers in arr01\n",
    "uncommon = np.setdiff1d(arr01,common)\n",
    "uncommon"
   ]
  },
  {
   "cell_type": "code",
   "execution_count": 31,
   "metadata": {},
   "outputs": [
    {
     "data": {
      "text/plain": [
       "array([3, 0, 1, 7, 5, 9, 6, 4, 8, 2])"
      ]
     },
     "execution_count": 31,
     "metadata": {},
     "output_type": "execute_result"
    }
   ],
   "source": [
    "import numpy as np \n",
    "arr = np.arange(10)\n",
    "np.random.shuffle(arr)\n",
    "arr"
   ]
  },
  {
   "cell_type": "code",
   "execution_count": 29,
   "metadata": {},
   "outputs": [
    {
     "data": {
      "text/plain": [
       "array([ 117,  117,  119,  154,  393,  439,  452,  454,  475,  531,  553,\n",
       "        668,  704,  862,  942, 1053, 1068, 1068, 1068, 1089, 1185, 1205,\n",
       "       1264, 1357, 1378, 1411, 1425, 1426, 1443, 1478, 1478, 1533, 1534,\n",
       "       1539, 1547])"
      ]
     },
     "execution_count": 29,
     "metadata": {},
     "output_type": "execute_result"
    }
   ],
   "source": [
    "#Task4-the cumulative miles\n",
    "#using google map to cheak the distance from New York to Key West by cyclying is 1547 miles. We can use'random.randint(a,b)' to choose-\n",
    "#-35 numbers 'n' randomly from range (a,b), a is the minmum and b is the maxmum number in this range, for any n is :a <= n <= b\n",
    "import numpy as np\n",
    "arr = np.random.randint(1, 1547, 35)\n",
    "#choose any 4 numbers in the above array and make sure that the number is same as the next number. \n",
    "for i in np.random.randint(1, 34, 4):\n",
    "    arr[i] = arr[i+1]\n",
    "#make sure the last number is the total miles by cyclying between new york and west key:1547\n",
    "arr[34] = 1547\n",
    "#make sure the cumulative number for everyday is in a ascending order, we use'sort'here. Then we get the array to record the cumulative-\n",
    "#-mailes for each day\n",
    "arr_cumulative = np.sort(arr)\n",
    "arr_cumulative"
   ]
  },
  {
   "cell_type": "code",
   "execution_count": 30,
   "metadata": {},
   "outputs": [
    {
     "data": {
      "text/plain": [
       "array([117,   0,   2,  35, 239,  46,  13,   2,  21,  56,  22, 115,  36,\n",
       "       158,  80, 111,  15,   0,   0,  21,  96,  20,  59,  93,  21,  33,\n",
       "        14,   1,  17,  35,   0,  55,   1,   5,   8])"
      ]
     },
     "execution_count": 30,
     "metadata": {},
     "output_type": "execute_result"
    }
   ],
   "source": [
    "#Task4-the each day miles\n",
    "#the first day mile is the first number in arr_cumulative\n",
    "i = arr_cumulative[0]\n",
    "#from the second number in each_day miles, the number is the difference between the numbers, we use diff here\n",
    "each_day = np.append(i, np.diff(arr_cumulative))\n",
    "each_day"
   ]
  },
  {
   "cell_type": "code",
   "execution_count": 48,
   "metadata": {},
   "outputs": [
    {
     "name": "stdout",
     "output_type": "stream",
     "text": [
      "[[   1979.  7102100.     1512.      213. ]\n",
      " [   1980.  7071639.     1506.      213. ]\n",
      " [   1981.  7089241.     1309.      185. ]\n",
      " [   1982.  7109105.     1382.      194. ]\n",
      " [   1983.  7181224.     1424.      198. ]\n",
      " [   1984.  7234514.     1465.      203. ]\n",
      " [   1985.  7274054.     1326.      182. ]\n",
      " [   1986.  7319246.     1351.      185. ]\n",
      " [   1987.  7342476.     1447.      197. ]\n",
      " [   1988.  7353719.     1484.      202. ]\n",
      " [   1989.  7344175.     1402.      191. ]\n",
      " [   1990.  7335650.     1424.      194. ]\n",
      " [   1991.  7374501.     1469.      199. ]\n",
      " [   1992.  7428944.     1369.      184. ]\n",
      " [   1993.  7506166.     1368.5     182. ]\n",
      " [   1994.  7570458.     1357.7     179. ]\n",
      " [   1995.  7633040.     1325.7     174. ]\n",
      " [   1996.  7697812.     1297.9     169. ]\n",
      " [   1997.  7773443.     1205.5     155. ]\n",
      " [   1998.  7858259.     1219.5     155. ]\n",
      " [   1999.  7947660.     1237.2     156. ]\n",
      " [   2000.  8008278.     1240.4     155. ]\n",
      " [   2001.  8024963.5    1184.      148. ]\n",
      " [   2002.  8041649.     1135.6     141. ]\n",
      " [   2003.  8058334.5    1093.7     136. ]\n",
      " [   2004.  8075020.     1099.5     136. ]\n",
      " [   2005.  8091705.5    1138.      141. ]\n",
      " [   2006.  8108391.     1069.      132. ]\n",
      " [   2007.  8125076.5    1114.      137. ]\n",
      " [   2008.  8141762.     1098.      135. ]\n",
      " [   2009.  8158447.5    1007.5     123. ]\n",
      " [   2010.  8175133.     1039.      127. ]\n",
      " [   2011.  8284098.     1021.      123. ]\n",
      " [   2012.  8361179.     1009.1     121. ]\n",
      " [   2013.  8422460.     1006.1     119. ]\n",
      " [   2014.  8471990.      996.      118. ]\n",
      " [   2015.  8516502.     1009.      118. ]\n",
      " [   2016.  8537673.     1002.      117. ]\n",
      " [   2017.  8622698.      990.2     115. ]]\n"
     ]
    },
    {
     "name": "stderr",
     "output_type": "stream",
     "text": [
      "C:\\Users\\Administrator\\Anaconda3\\lib\\site-packages\\ipykernel_launcher.py:9: FutureWarning: Method .as_matrix will be removed in a future version. Use .values instead.\n",
      "  if __name__ == '__main__':\n"
     ]
    }
   ],
   "source": [
    "#Task5\n",
    "import pandas\n",
    "import numpy as np\n",
    "\n",
    "# supress scientific notation\n",
    "np.set_printoptions(suppress = True)\n",
    "\n",
    "# read the data file from GitHub and convert to a NumPy ndarray object\n",
    "nyc_water = pandas.read_csv('https://raw.githubusercontent.com/jtopor/DAV-5400/master/Week4/Water_Consumption_In_The_New_York_City.csv').as_matrix()\n",
    "\n",
    "# verify you have an ndarray object\n",
    "type(nyc_water)\n",
    "print(nyc_water)"
   ]
  },
  {
   "cell_type": "markdown",
   "metadata": {},
   "source": [
    "According to the website, we know that the 4 column data here represent 'Year','New York City Population','NYC comsumpetion million gallons per day','gallons per person per day'."
   ]
  },
  {
   "cell_type": "code",
   "execution_count": 50,
   "metadata": {},
   "outputs": [
    {
     "data": {
      "text/plain": [
       "1512.0"
      ]
     },
     "execution_count": 50,
     "metadata": {},
     "output_type": "execute_result"
    }
   ],
   "source": [
    "#Task5-01\n",
    "#here we use'max' to get the maxmium data in the 3rd column\n",
    "nyc_water[:,2].max()"
   ]
  },
  {
   "cell_type": "code",
   "execution_count": 51,
   "metadata": {},
   "outputs": [
    {
     "data": {
      "text/plain": [
       "39"
      ]
     },
     "execution_count": 51,
     "metadata": {},
     "output_type": "execute_result"
    }
   ],
   "source": [
    "#Task5-02\n",
    "#NumPy's shape command is one way to find out, so we use shape here\n",
    "nyc_water.shape[0]"
   ]
  },
  {
   "cell_type": "code",
   "execution_count": 61,
   "metadata": {},
   "outputs": [
    {
     "data": {
      "text/plain": [
       "31.51894330370624"
      ]
     },
     "execution_count": 61,
     "metadata": {},
     "output_type": "execute_result"
    }
   ],
   "source": [
    "#Task5-03\n",
    "#just use the 'std' syntax here to get the standard deviation for the 4th column data here \n",
    "arr_std = np.std(nyc_water[:,3])\n",
    "arr_std"
   ]
  },
  {
   "cell_type": "code",
   "execution_count": 57,
   "metadata": {},
   "outputs": [
    {
     "name": "stdout",
     "output_type": "stream",
     "text": [
      "[-30461.   17602.   19864.   72119.   53290.   39540.   45192.   23230.\n",
      "  11243.   -9544.   -8525.   38851.   54443.   77222.   64292.   62582.\n",
      "  64772.   75631.   84816.   89401.   60618.   16685.5  16685.5  16685.5\n",
      "  16685.5  16685.5  16685.5  16685.5  16685.5  16685.5  16685.5 108965.\n",
      "  77081.   61281.   49530.   44512.   21171.   85025. ]\n"
     ]
    }
   ],
   "source": [
    "#Task5-04\n",
    "#use 'diff' to the 2ed column here,diff function can caculate the variable direactly from the data and the next data.\n",
    "pop_diff = np.diff(nyc_water[:,1])\n",
    "print(pop_diff)"
   ]
  }
 ],
 "metadata": {
  "kernelspec": {
   "display_name": "Python 3",
   "language": "python",
   "name": "python3"
  },
  "language_info": {
   "codemirror_mode": {
    "name": "ipython",
    "version": 3
   },
   "file_extension": ".py",
   "mimetype": "text/x-python",
   "name": "python",
   "nbconvert_exporter": "python",
   "pygments_lexer": "ipython3",
   "version": "3.7.3"
  }
 },
 "nbformat": 4,
 "nbformat_minor": 2
}
